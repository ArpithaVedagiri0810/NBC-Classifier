{
  "cells": [
    {
      "cell_type": "code",
      "execution_count": 1,
      "id": "2a714560",
      "metadata": {
        "_cell_guid": "b1076dfc-b9ad-4769-8c92-a6c4dae69d19",
        "_uuid": "8f2839f25d086af736a60e9eeb907d3b93b6e0e5",
        "execution": {
          "iopub.execute_input": "2023-11-26T17:08:32.042682Z",
          "iopub.status.busy": "2023-11-26T17:08:32.042270Z",
          "iopub.status.idle": "2023-11-26T17:08:32.484854Z",
          "shell.execute_reply": "2023-11-26T17:08:32.483039Z"
        },
        "papermill": {
          "duration": 0.45376,
          "end_time": "2023-11-26T17:08:32.487521",
          "exception": false,
          "start_time": "2023-11-26T17:08:32.033761",
          "status": "completed"
        },
        "tags": [],
        "id": "2a714560"
      },
      "outputs": [],
      "source": [
        "import numpy as np # linear algebra\n",
        "import pandas as pd # data processing, CSV file I/O (e.g. pd.read_csv)\n",
        "import os\n",
        "for dirname, _, filenames in os.walk('/kaggle/input'):\n",
        "    for filename in filenames:\n",
        "        print(os.path.join(dirname, filename))"
      ]
    },
    {
      "cell_type": "code",
      "execution_count": 4,
      "id": "35c56e77",
      "metadata": {
        "execution": {
          "iopub.execute_input": "2023-11-26T17:08:32.504214Z",
          "iopub.status.busy": "2023-11-26T17:08:32.503686Z",
          "iopub.status.idle": "2023-11-26T17:08:36.269292Z",
          "shell.execute_reply": "2023-11-26T17:08:36.268298Z"
        },
        "papermill": {
          "duration": 3.776044,
          "end_time": "2023-11-26T17:08:36.271966",
          "exception": false,
          "start_time": "2023-11-26T17:08:32.495922",
          "status": "completed"
        },
        "tags": [],
        "id": "35c56e77"
      },
      "outputs": [],
      "source": [
        "from sklearn.feature_extraction.text import TfidfVectorizer\n",
        "train = pd.read_csv('/content/Generated_text.csv')"
      ]
    },
    {
      "cell_type": "code",
      "execution_count": 5,
      "id": "74e344a5",
      "metadata": {
        "execution": {
          "iopub.execute_input": "2023-11-26T17:08:36.287346Z",
          "iopub.status.busy": "2023-11-26T17:08:36.286328Z",
          "iopub.status.idle": "2023-11-26T17:08:36.324557Z",
          "shell.execute_reply": "2023-11-26T17:08:36.323162Z"
        },
        "papermill": {
          "duration": 0.049283,
          "end_time": "2023-11-26T17:08:36.327738",
          "exception": false,
          "start_time": "2023-11-26T17:08:36.278455",
          "status": "completed"
        },
        "tags": [],
        "id": "74e344a5"
      },
      "outputs": [],
      "source": [
        "train1 = train[train.RDizzl3_seven == False].reset_index(drop=True)\n",
        "train1=train[train[\"label\"]==1].sample(8000)\n",
        "train = train[train.RDizzl3_seven == True].reset_index(drop=True)"
      ]
    },
    {
      "cell_type": "code",
      "execution_count": 6,
      "id": "9871a712",
      "metadata": {
        "execution": {
          "iopub.execute_input": "2023-11-26T17:08:36.343383Z",
          "iopub.status.busy": "2023-11-26T17:08:36.342842Z",
          "iopub.status.idle": "2023-11-26T17:08:36.355436Z",
          "shell.execute_reply": "2023-11-26T17:08:36.354175Z"
        },
        "papermill": {
          "duration": 0.023643,
          "end_time": "2023-11-26T17:08:36.358079",
          "exception": false,
          "start_time": "2023-11-26T17:08:36.334436",
          "status": "completed"
        },
        "tags": [],
        "id": "9871a712"
      },
      "outputs": [],
      "source": [
        "train=pd.concat([train,train1])"
      ]
    },
    {
      "cell_type": "code",
      "execution_count": null,
      "id": "3f4764e9",
      "metadata": {
        "execution": {
          "iopub.execute_input": "2023-11-26T17:08:36.373072Z",
          "iopub.status.busy": "2023-11-26T17:08:36.372201Z",
          "iopub.status.idle": "2023-11-26T17:08:40.256048Z",
          "shell.execute_reply": "2023-11-26T17:08:40.254665Z"
        },
        "papermill": {
          "duration": 3.894501,
          "end_time": "2023-11-26T17:08:40.258925",
          "exception": false,
          "start_time": "2023-11-26T17:08:36.364424",
          "status": "completed"
        },
        "tags": [],
        "id": "3f4764e9"
      },
      "outputs": [],
      "source": [
        "from collections import Counter\n",
        "def build_vocabulary(data, min_occurrences=5):\n",
        "    words = [word for essay in data['text'] for word in essay.split()]\n",
        "    word_counts = Counter(words)\n",
        "\n",
        "    vocabulary = [word for word, count in word_counts.items() if count <= min_occurrences]\n",
        "\n",
        "    reverse_index = {word: index for index, word in enumerate(vocabulary)}\n",
        "\n",
        "    return vocabulary, reverse_index\n",
        "\n",
        "vocabulary, reverse_index = build_vocabulary(train)"
      ]
    },
    {
      "cell_type": "code",
      "execution_count": 7,
      "id": "61a876e0",
      "metadata": {
        "execution": {
          "iopub.execute_input": "2023-11-26T17:08:40.273644Z",
          "iopub.status.busy": "2023-11-26T17:08:40.273214Z",
          "iopub.status.idle": "2023-11-26T17:08:40.420346Z",
          "shell.execute_reply": "2023-11-26T17:08:40.418921Z"
        },
        "papermill": {
          "duration": 0.157904,
          "end_time": "2023-11-26T17:08:40.423273",
          "exception": false,
          "start_time": "2023-11-26T17:08:40.265369",
          "status": "completed"
        },
        "tags": [],
        "id": "61a876e0"
      },
      "outputs": [],
      "source": [
        "from sklearn.model_selection import train_test_split\n",
        "train_data, dev_data = train_test_split(train, test_size=0.2, random_state=42)"
      ]
    },
    {
      "cell_type": "code",
      "execution_count": 9,
      "id": "3861a03f",
      "metadata": {
        "execution": {
          "iopub.execute_input": "2023-11-26T17:08:40.437929Z",
          "iopub.status.busy": "2023-11-26T17:08:40.437450Z",
          "iopub.status.idle": "2023-11-26T17:08:40.443220Z",
          "shell.execute_reply": "2023-11-26T17:08:40.441957Z"
        },
        "papermill": {
          "duration": 0.016218,
          "end_time": "2023-11-26T17:08:40.445895",
          "exception": false,
          "start_time": "2023-11-26T17:08:40.429677",
          "status": "completed"
        },
        "tags": [],
        "id": "3861a03f"
      },
      "outputs": [],
      "source": [
        "documents = train_data['text']\n",
        "labels = train_data['label']"
      ]
    },
    {
      "cell_type": "code",
      "execution_count": 10,
      "id": "8108461b",
      "metadata": {
        "execution": {
          "iopub.execute_input": "2023-11-26T17:08:40.460778Z",
          "iopub.status.busy": "2023-11-26T17:08:40.460323Z",
          "iopub.status.idle": "2023-11-26T17:09:48.982556Z",
          "shell.execute_reply": "2023-11-26T17:09:48.981213Z"
        },
        "papermill": {
          "duration": 68.539053,
          "end_time": "2023-11-26T17:09:48.991321",
          "exception": false,
          "start_time": "2023-11-26T17:08:40.452268",
          "status": "completed"
        },
        "tags": [],
        "id": "8108461b",
        "outputId": "9529bd33-edd3-4d1b-c55a-ac719494acfa",
        "colab": {
          "base_uri": "https://localhost:8080/"
        }
      },
      "outputs": [
        {
          "output_type": "stream",
          "name": "stdout",
          "text": [
            "For alpha value: 0.0 Accuracy: 0.5015817223198594\n",
            "For alpha value: 0.1 Accuracy: 0.5015817223198594\n",
            "For alpha value: 0.5 Accuracy: 0.5015817223198594\n",
            "For alpha value: 1.0 Accuracy: 0.5015817223198594\n",
            "For alpha value: 5.0 Accuracy: 0.5015817223198594\n",
            "For Best Alpha value: 0.0 Accuracy: 0.5015817223198594\n",
            "Top words for class '0': the, to, a, of, and, in, is, that, it, be\n",
            "Top words for class '1': the, to, and, of, a, in, that, is, can, it\n"
          ]
        }
      ],
      "source": [
        "import re\n",
        "from collections import defaultdict\n",
        "from math import log, exp\n",
        "\n",
        "class NaiveBayesClassifier:\n",
        "    def __init__(self):\n",
        "        self.class_probs = defaultdict(float)\n",
        "        self.word_probs = defaultdict(lambda: defaultdict(float))\n",
        "        self.classes = set()\n",
        "\n",
        "    def train(self, documents, labels, alpha):\n",
        "        # Count occurrences of each class\n",
        "        class_counts = defaultdict(int)\n",
        "        for label in labels:\n",
        "            class_counts[label] += 1\n",
        "            self.classes.add(label)\n",
        "\n",
        "        total_documents = len(labels)\n",
        "\n",
        "        # Calculate class probabilities\n",
        "        for label, count in class_counts.items():\n",
        "            self.class_probs[label] = count / total_documents\n",
        "\n",
        "        # Count word occurrences in each class with Laplace smoothing\n",
        "        word_counts = defaultdict(lambda: defaultdict(int))\n",
        "\n",
        "        for doc, label in zip(documents, labels):\n",
        "            words = re.findall(r'\\b\\w+\\b', doc.lower())\n",
        "            for word in words:\n",
        "                word_counts[label][word] += 1\n",
        "\n",
        "        # Calculate word probabilities for each class with Laplace smoothing\n",
        "        for label in self.classes:\n",
        "            total_words_in_class = sum(word_counts[label].values())\n",
        "            total_unique_words = len(set(word_counts[label].keys()))\n",
        "\n",
        "            for word, count in word_counts[label].items():\n",
        "                self.word_probs[label][word] = (count + alpha) / (total_words_in_class + alpha * total_unique_words)\n",
        "\n",
        "    def get_top_words_per_class(self, top_n=10):\n",
        "        top_words_per_class = defaultdict(list)\n",
        "\n",
        "        for label in self.classes:\n",
        "            word_probabilities = self.word_probs[label]\n",
        "            top_words = sorted(word_probabilities, key=word_probabilities.get, reverse=True)[:top_n]\n",
        "            top_words_per_class[label] = top_words\n",
        "\n",
        "        return top_words_per_class\n",
        "\n",
        "    def predict(self, documents):\n",
        "        # Assuming 'documents' is a list of documents\n",
        "        probabilities_list = []\n",
        "\n",
        "        for document in documents:\n",
        "            words = re.findall(r'\\b\\w+\\b', str(document).lower())\n",
        "            scores = defaultdict(float)\n",
        "\n",
        "            for label in self.classes:\n",
        "                scores[label] = log(self.class_probs[label])\n",
        "\n",
        "                for word in words:\n",
        "                    scores[label] += log(self.word_probs[label].get(word, 1e-10))\n",
        "\n",
        "            exp_scores = {label: exp(score) for label, score in scores.items()}\n",
        "            sum_exp_scores = sum(exp_scores.values())\n",
        "\n",
        "            if sum_exp_scores == 0:\n",
        "                probabilities = {label: 1 / len(self.classes) for label in self.classes}\n",
        "            else:\n",
        "                probabilities = {label: exp_score / sum_exp_scores for label, exp_score in exp_scores.items()}\n",
        "\n",
        "            probabilities_list.append(probabilities)\n",
        "\n",
        "        return probabilities_list\n",
        "\n",
        "\n",
        "\n",
        "\n",
        "# Create and train the classifier\n",
        "alpha = [0.0, 0.1, 0.5, 1.0, 5.0]\n",
        "\n",
        "\n",
        "dev_data_documents = dev_data['text']\n",
        "dev_data_labels = dev_data['label']\n",
        "best_accuracy = 0\n",
        "best_alpha = 0\n",
        "for alpha_val in alpha:\n",
        "    result = []\n",
        "    classifier = NaiveBayesClassifier()\n",
        "    classifier.train(documents, labels, alpha_val)\n",
        "    train_prob_list = classifier.predict(dev_data_documents)\n",
        "    for i in range(len(train_prob_list)):\n",
        "        if(train_prob_list[i][0] >= train_prob_list[i][1]):\n",
        "            result.append(0)\n",
        "        else:\n",
        "            result.append(1)\n",
        "    count = 0\n",
        "    for i in range(len(result)):\n",
        "        if(result[i] == dev_data_labels.iloc[i]):\n",
        "            count = count + 1\n",
        "\n",
        "    accuracy = count / len(result)\n",
        "\n",
        "    if(accuracy > best_accuracy):\n",
        "        best_accuracy = accuracy\n",
        "        best_alpha = alpha_val\n",
        "\n",
        "    print(\"For alpha value:\", alpha_val, \"Accuracy:\", accuracy)\n",
        "\n",
        "print(\"For Best Alpha value:\", best_alpha, \"Accuracy:\", best_accuracy)\n",
        "\n",
        "best_classifier = NaiveBayesClassifier()\n",
        "best_classifier.train(documents, labels, best_alpha)\n",
        "top_words = best_classifier.get_top_words_per_class()\n",
        "for label, words in top_words.items():\n",
        "    print(f\"Top words for class '{label}': {', '.join(words)}\")"
      ]
    },
    {
      "cell_type": "code",
      "execution_count": 11,
      "id": "d8b91c48",
      "metadata": {
        "execution": {
          "iopub.execute_input": "2023-11-26T17:09:49.007559Z",
          "iopub.status.busy": "2023-11-26T17:09:49.007139Z",
          "iopub.status.idle": "2023-11-26T17:09:52.954148Z",
          "shell.execute_reply": "2023-11-26T17:09:52.952852Z"
        },
        "papermill": {
          "duration": 3.958921,
          "end_time": "2023-11-26T17:09:52.957493",
          "exception": false,
          "start_time": "2023-11-26T17:09:48.998572",
          "status": "completed"
        },
        "tags": [],
        "id": "d8b91c48"
      },
      "outputs": [],
      "source": [
        "dev_data_documents = dev_data['text']\n",
        "dev_data_labels = dev_data['label']\n",
        "train_prob_list = best_classifier.predict(dev_data_documents)\n"
      ]
    },
    {
      "cell_type": "code",
      "execution_count": 12,
      "id": "ed515e84",
      "metadata": {
        "execution": {
          "iopub.execute_input": "2023-11-26T17:09:52.977597Z",
          "iopub.status.busy": "2023-11-26T17:09:52.976470Z",
          "iopub.status.idle": "2023-11-26T17:09:52.985921Z",
          "shell.execute_reply": "2023-11-26T17:09:52.984631Z"
        },
        "papermill": {
          "duration": 0.021163,
          "end_time": "2023-11-26T17:09:52.988425",
          "exception": false,
          "start_time": "2023-11-26T17:09:52.967262",
          "status": "completed"
        },
        "tags": [],
        "id": "ed515e84",
        "outputId": "6f09d75e-edf3-4f34-ae0d-d1f9f71d6ed7",
        "colab": {
          "base_uri": "https://localhost:8080/"
        }
      },
      "outputs": [
        {
          "output_type": "execute_result",
          "data": {
            "text/plain": [
              "5690"
            ]
          },
          "metadata": {},
          "execution_count": 12
        }
      ],
      "source": [
        "len(dev_data_documents)"
      ]
    },
    {
      "cell_type": "code",
      "execution_count": 13,
      "id": "f18f3dce",
      "metadata": {
        "execution": {
          "iopub.execute_input": "2023-11-26T17:09:53.005490Z",
          "iopub.status.busy": "2023-11-26T17:09:53.004215Z",
          "iopub.status.idle": "2023-11-26T17:09:53.012249Z",
          "shell.execute_reply": "2023-11-26T17:09:53.011036Z"
        },
        "papermill": {
          "duration": 0.019504,
          "end_time": "2023-11-26T17:09:53.015069",
          "exception": false,
          "start_time": "2023-11-26T17:09:52.995565",
          "status": "completed"
        },
        "tags": [],
        "id": "f18f3dce",
        "outputId": "91211cfb-bb79-4148-919d-67916d99400b",
        "colab": {
          "base_uri": "https://localhost:8080/"
        }
      },
      "outputs": [
        {
          "output_type": "execute_result",
          "data": {
            "text/plain": [
              "5690"
            ]
          },
          "metadata": {},
          "execution_count": 13
        }
      ],
      "source": [
        "len(train_prob_list)"
      ]
    },
    {
      "cell_type": "code",
      "execution_count": 15,
      "id": "bb8cc62d",
      "metadata": {
        "execution": {
          "iopub.execute_input": "2023-11-26T17:09:53.032769Z",
          "iopub.status.busy": "2023-11-26T17:09:53.032232Z",
          "iopub.status.idle": "2023-11-26T17:09:53.056214Z",
          "shell.execute_reply": "2023-11-26T17:09:53.054784Z"
        },
        "papermill": {
          "duration": 0.035775,
          "end_time": "2023-11-26T17:09:53.058895",
          "exception": false,
          "start_time": "2023-11-26T17:09:53.023120",
          "status": "completed"
        },
        "tags": [],
        "id": "bb8cc62d",
        "outputId": "482fe86b-af69-4295-f340-10edbdca6041",
        "colab": {
          "base_uri": "https://localhost:8080/",
          "height": 143
        }
      },
      "outputs": [
        {
          "output_type": "execute_result",
          "data": {
            "text/plain": [
              "         id  prompt_id          text\n",
              "0  0000aaaa          2  Aaa bbb ccc.\n",
              "1  1111bbbb          3  Bbb ccc ddd.\n",
              "2  2222cccc          4  CCC ddd eee."
            ],
            "text/html": [
              "\n",
              "  <div id=\"df-3de85eff-c672-42da-ba3a-af900edd9262\" class=\"colab-df-container\">\n",
              "    <div>\n",
              "<style scoped>\n",
              "    .dataframe tbody tr th:only-of-type {\n",
              "        vertical-align: middle;\n",
              "    }\n",
              "\n",
              "    .dataframe tbody tr th {\n",
              "        vertical-align: top;\n",
              "    }\n",
              "\n",
              "    .dataframe thead th {\n",
              "        text-align: right;\n",
              "    }\n",
              "</style>\n",
              "<table border=\"1\" class=\"dataframe\">\n",
              "  <thead>\n",
              "    <tr style=\"text-align: right;\">\n",
              "      <th></th>\n",
              "      <th>id</th>\n",
              "      <th>prompt_id</th>\n",
              "      <th>text</th>\n",
              "    </tr>\n",
              "  </thead>\n",
              "  <tbody>\n",
              "    <tr>\n",
              "      <th>0</th>\n",
              "      <td>0000aaaa</td>\n",
              "      <td>2</td>\n",
              "      <td>Aaa bbb ccc.</td>\n",
              "    </tr>\n",
              "    <tr>\n",
              "      <th>1</th>\n",
              "      <td>1111bbbb</td>\n",
              "      <td>3</td>\n",
              "      <td>Bbb ccc ddd.</td>\n",
              "    </tr>\n",
              "    <tr>\n",
              "      <th>2</th>\n",
              "      <td>2222cccc</td>\n",
              "      <td>4</td>\n",
              "      <td>CCC ddd eee.</td>\n",
              "    </tr>\n",
              "  </tbody>\n",
              "</table>\n",
              "</div>\n",
              "    <div class=\"colab-df-buttons\">\n",
              "\n",
              "  <div class=\"colab-df-container\">\n",
              "    <button class=\"colab-df-convert\" onclick=\"convertToInteractive('df-3de85eff-c672-42da-ba3a-af900edd9262')\"\n",
              "            title=\"Convert this dataframe to an interactive table.\"\n",
              "            style=\"display:none;\">\n",
              "\n",
              "  <svg xmlns=\"http://www.w3.org/2000/svg\" height=\"24px\" viewBox=\"0 -960 960 960\">\n",
              "    <path d=\"M120-120v-720h720v720H120Zm60-500h600v-160H180v160Zm220 220h160v-160H400v160Zm0 220h160v-160H400v160ZM180-400h160v-160H180v160Zm440 0h160v-160H620v160ZM180-180h160v-160H180v160Zm440 0h160v-160H620v160Z\"/>\n",
              "  </svg>\n",
              "    </button>\n",
              "\n",
              "  <style>\n",
              "    .colab-df-container {\n",
              "      display:flex;\n",
              "      gap: 12px;\n",
              "    }\n",
              "\n",
              "    .colab-df-convert {\n",
              "      background-color: #E8F0FE;\n",
              "      border: none;\n",
              "      border-radius: 50%;\n",
              "      cursor: pointer;\n",
              "      display: none;\n",
              "      fill: #1967D2;\n",
              "      height: 32px;\n",
              "      padding: 0 0 0 0;\n",
              "      width: 32px;\n",
              "    }\n",
              "\n",
              "    .colab-df-convert:hover {\n",
              "      background-color: #E2EBFA;\n",
              "      box-shadow: 0px 1px 2px rgba(60, 64, 67, 0.3), 0px 1px 3px 1px rgba(60, 64, 67, 0.15);\n",
              "      fill: #174EA6;\n",
              "    }\n",
              "\n",
              "    .colab-df-buttons div {\n",
              "      margin-bottom: 4px;\n",
              "    }\n",
              "\n",
              "    [theme=dark] .colab-df-convert {\n",
              "      background-color: #3B4455;\n",
              "      fill: #D2E3FC;\n",
              "    }\n",
              "\n",
              "    [theme=dark] .colab-df-convert:hover {\n",
              "      background-color: #434B5C;\n",
              "      box-shadow: 0px 1px 3px 1px rgba(0, 0, 0, 0.15);\n",
              "      filter: drop-shadow(0px 1px 2px rgba(0, 0, 0, 0.3));\n",
              "      fill: #FFFFFF;\n",
              "    }\n",
              "  </style>\n",
              "\n",
              "    <script>\n",
              "      const buttonEl =\n",
              "        document.querySelector('#df-3de85eff-c672-42da-ba3a-af900edd9262 button.colab-df-convert');\n",
              "      buttonEl.style.display =\n",
              "        google.colab.kernel.accessAllowed ? 'block' : 'none';\n",
              "\n",
              "      async function convertToInteractive(key) {\n",
              "        const element = document.querySelector('#df-3de85eff-c672-42da-ba3a-af900edd9262');\n",
              "        const dataTable =\n",
              "          await google.colab.kernel.invokeFunction('convertToInteractive',\n",
              "                                                    [key], {});\n",
              "        if (!dataTable) return;\n",
              "\n",
              "        const docLinkHtml = 'Like what you see? Visit the ' +\n",
              "          '<a target=\"_blank\" href=https://colab.research.google.com/notebooks/data_table.ipynb>data table notebook</a>'\n",
              "          + ' to learn more about interactive tables.';\n",
              "        element.innerHTML = '';\n",
              "        dataTable['output_type'] = 'display_data';\n",
              "        await google.colab.output.renderOutput(dataTable, element);\n",
              "        const docLink = document.createElement('div');\n",
              "        docLink.innerHTML = docLinkHtml;\n",
              "        element.appendChild(docLink);\n",
              "      }\n",
              "    </script>\n",
              "  </div>\n",
              "\n",
              "\n",
              "<div id=\"df-c71af587-d355-4ee5-a326-f604f1287c78\">\n",
              "  <button class=\"colab-df-quickchart\" onclick=\"quickchart('df-c71af587-d355-4ee5-a326-f604f1287c78')\"\n",
              "            title=\"Suggest charts\"\n",
              "            style=\"display:none;\">\n",
              "\n",
              "<svg xmlns=\"http://www.w3.org/2000/svg\" height=\"24px\"viewBox=\"0 0 24 24\"\n",
              "     width=\"24px\">\n",
              "    <g>\n",
              "        <path d=\"M19 3H5c-1.1 0-2 .9-2 2v14c0 1.1.9 2 2 2h14c1.1 0 2-.9 2-2V5c0-1.1-.9-2-2-2zM9 17H7v-7h2v7zm4 0h-2V7h2v10zm4 0h-2v-4h2v4z\"/>\n",
              "    </g>\n",
              "</svg>\n",
              "  </button>\n",
              "\n",
              "<style>\n",
              "  .colab-df-quickchart {\n",
              "      --bg-color: #E8F0FE;\n",
              "      --fill-color: #1967D2;\n",
              "      --hover-bg-color: #E2EBFA;\n",
              "      --hover-fill-color: #174EA6;\n",
              "      --disabled-fill-color: #AAA;\n",
              "      --disabled-bg-color: #DDD;\n",
              "  }\n",
              "\n",
              "  [theme=dark] .colab-df-quickchart {\n",
              "      --bg-color: #3B4455;\n",
              "      --fill-color: #D2E3FC;\n",
              "      --hover-bg-color: #434B5C;\n",
              "      --hover-fill-color: #FFFFFF;\n",
              "      --disabled-bg-color: #3B4455;\n",
              "      --disabled-fill-color: #666;\n",
              "  }\n",
              "\n",
              "  .colab-df-quickchart {\n",
              "    background-color: var(--bg-color);\n",
              "    border: none;\n",
              "    border-radius: 50%;\n",
              "    cursor: pointer;\n",
              "    display: none;\n",
              "    fill: var(--fill-color);\n",
              "    height: 32px;\n",
              "    padding: 0;\n",
              "    width: 32px;\n",
              "  }\n",
              "\n",
              "  .colab-df-quickchart:hover {\n",
              "    background-color: var(--hover-bg-color);\n",
              "    box-shadow: 0 1px 2px rgba(60, 64, 67, 0.3), 0 1px 3px 1px rgba(60, 64, 67, 0.15);\n",
              "    fill: var(--button-hover-fill-color);\n",
              "  }\n",
              "\n",
              "  .colab-df-quickchart-complete:disabled,\n",
              "  .colab-df-quickchart-complete:disabled:hover {\n",
              "    background-color: var(--disabled-bg-color);\n",
              "    fill: var(--disabled-fill-color);\n",
              "    box-shadow: none;\n",
              "  }\n",
              "\n",
              "  .colab-df-spinner {\n",
              "    border: 2px solid var(--fill-color);\n",
              "    border-color: transparent;\n",
              "    border-bottom-color: var(--fill-color);\n",
              "    animation:\n",
              "      spin 1s steps(1) infinite;\n",
              "  }\n",
              "\n",
              "  @keyframes spin {\n",
              "    0% {\n",
              "      border-color: transparent;\n",
              "      border-bottom-color: var(--fill-color);\n",
              "      border-left-color: var(--fill-color);\n",
              "    }\n",
              "    20% {\n",
              "      border-color: transparent;\n",
              "      border-left-color: var(--fill-color);\n",
              "      border-top-color: var(--fill-color);\n",
              "    }\n",
              "    30% {\n",
              "      border-color: transparent;\n",
              "      border-left-color: var(--fill-color);\n",
              "      border-top-color: var(--fill-color);\n",
              "      border-right-color: var(--fill-color);\n",
              "    }\n",
              "    40% {\n",
              "      border-color: transparent;\n",
              "      border-right-color: var(--fill-color);\n",
              "      border-top-color: var(--fill-color);\n",
              "    }\n",
              "    60% {\n",
              "      border-color: transparent;\n",
              "      border-right-color: var(--fill-color);\n",
              "    }\n",
              "    80% {\n",
              "      border-color: transparent;\n",
              "      border-right-color: var(--fill-color);\n",
              "      border-bottom-color: var(--fill-color);\n",
              "    }\n",
              "    90% {\n",
              "      border-color: transparent;\n",
              "      border-bottom-color: var(--fill-color);\n",
              "    }\n",
              "  }\n",
              "</style>\n",
              "\n",
              "  <script>\n",
              "    async function quickchart(key) {\n",
              "      const quickchartButtonEl =\n",
              "        document.querySelector('#' + key + ' button');\n",
              "      quickchartButtonEl.disabled = true;  // To prevent multiple clicks.\n",
              "      quickchartButtonEl.classList.add('colab-df-spinner');\n",
              "      try {\n",
              "        const charts = await google.colab.kernel.invokeFunction(\n",
              "            'suggestCharts', [key], {});\n",
              "      } catch (error) {\n",
              "        console.error('Error during call to suggestCharts:', error);\n",
              "      }\n",
              "      quickchartButtonEl.classList.remove('colab-df-spinner');\n",
              "      quickchartButtonEl.classList.add('colab-df-quickchart-complete');\n",
              "    }\n",
              "    (() => {\n",
              "      let quickchartButtonEl =\n",
              "        document.querySelector('#df-c71af587-d355-4ee5-a326-f604f1287c78 button');\n",
              "      quickchartButtonEl.style.display =\n",
              "        google.colab.kernel.accessAllowed ? 'block' : 'none';\n",
              "    })();\n",
              "  </script>\n",
              "</div>\n",
              "    </div>\n",
              "  </div>\n"
            ]
          },
          "metadata": {},
          "execution_count": 15
        }
      ],
      "source": [
        "test_data = pd.read_csv('/content/test_essays.csv')\n",
        "test_data"
      ]
    },
    {
      "cell_type": "code",
      "execution_count": 16,
      "id": "16a4ea9d",
      "metadata": {
        "execution": {
          "iopub.execute_input": "2023-11-26T17:09:53.076563Z",
          "iopub.status.busy": "2023-11-26T17:09:53.075746Z",
          "iopub.status.idle": "2023-11-26T17:09:53.082531Z",
          "shell.execute_reply": "2023-11-26T17:09:53.081447Z"
        },
        "papermill": {
          "duration": 0.01852,
          "end_time": "2023-11-26T17:09:53.084955",
          "exception": false,
          "start_time": "2023-11-26T17:09:53.066435",
          "status": "completed"
        },
        "tags": [],
        "id": "16a4ea9d",
        "outputId": "941b1061-4b26-4842-f3dd-fa30c2e695ff",
        "colab": {
          "base_uri": "https://localhost:8080/"
        }
      },
      "outputs": [
        {
          "output_type": "stream",
          "name": "stdout",
          "text": [
            "[{0: 3.1793208630032804e-05, 1: 0.9999682067913701}, {0: 0.5011862917398942, 1: 0.4988137082601059}, {0: 0.5011862917398942, 1: 0.4988137082601059}]\n"
          ]
        }
      ],
      "source": [
        "test_documents = test_data['text']\n",
        "probabilities_list = classifier.predict(test_documents)\n",
        "\n",
        "print(probabilities_list)"
      ]
    },
    {
      "cell_type": "code",
      "execution_count": 17,
      "id": "eb23f9c0",
      "metadata": {
        "execution": {
          "iopub.execute_input": "2023-11-26T17:09:53.102783Z",
          "iopub.status.busy": "2023-11-26T17:09:53.101967Z",
          "iopub.status.idle": "2023-11-26T17:09:53.107823Z",
          "shell.execute_reply": "2023-11-26T17:09:53.106789Z"
        },
        "papermill": {
          "duration": 0.017551,
          "end_time": "2023-11-26T17:09:53.110183",
          "exception": false,
          "start_time": "2023-11-26T17:09:53.092632",
          "status": "completed"
        },
        "tags": [],
        "id": "eb23f9c0"
      },
      "outputs": [],
      "source": [
        "proba = []\n",
        "for i in probabilities_list:\n",
        "    proba.append(i[1])\n",
        "\n",
        "predicted = np.array(proba)"
      ]
    },
    {
      "cell_type": "code",
      "execution_count": 18,
      "id": "ffbeb7d1",
      "metadata": {
        "execution": {
          "iopub.execute_input": "2023-11-26T17:09:53.127887Z",
          "iopub.status.busy": "2023-11-26T17:09:53.127038Z",
          "iopub.status.idle": "2023-11-26T17:09:53.138672Z",
          "shell.execute_reply": "2023-11-26T17:09:53.137548Z"
        },
        "papermill": {
          "duration": 0.02373,
          "end_time": "2023-11-26T17:09:53.141433",
          "exception": false,
          "start_time": "2023-11-26T17:09:53.117703",
          "status": "completed"
        },
        "tags": [],
        "id": "ffbeb7d1"
      },
      "outputs": [],
      "source": [
        "output= pd.DataFrame({'id':test_data[\"id\"],'generated':predicted})\n",
        "output.to_csv('submission.csv', index=False)"
      ]
    }
  ],
  "metadata": {
    "kaggle": {
      "accelerator": "none",
      "dataSources": [
        {
          "databundleVersionId": 6888007,
          "sourceId": 61542,
          "sourceType": "competition"
        },
        {
          "datasetId": 4059467,
          "sourceId": 7053182,
          "sourceType": "datasetVersion"
        }
      ],
      "dockerImageVersionId": 30587,
      "isGpuEnabled": false,
      "isInternetEnabled": false,
      "language": "python",
      "sourceType": "notebook"
    },
    "kernelspec": {
      "display_name": "Python 3",
      "language": "python",
      "name": "python3"
    },
    "language_info": {
      "codemirror_mode": {
        "name": "ipython",
        "version": 3
      },
      "file_extension": ".py",
      "mimetype": "text/x-python",
      "name": "python",
      "nbconvert_exporter": "python",
      "pygments_lexer": "ipython3",
      "version": "3.10.12"
    },
    "papermill": {
      "default_parameters": {},
      "duration": 85.58288,
      "end_time": "2023-11-26T17:09:53.987615",
      "environment_variables": {},
      "exception": null,
      "input_path": "__notebook__.ipynb",
      "output_path": "__notebook__.ipynb",
      "parameters": {},
      "start_time": "2023-11-26T17:08:28.404735",
      "version": "2.4.0"
    },
    "colab": {
      "provenance": []
    }
  },
  "nbformat": 4,
  "nbformat_minor": 5
}